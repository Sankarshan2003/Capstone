{
 "cells": [
  {
   "cell_type": "markdown",
   "metadata": {},
   "source": [
    "numpy==1.24.3 \n",
    "opencv==4.9.0.80 \n",
    "onnxruntime==1.17.1 "
   ]
  },
  {
   "cell_type": "code",
   "execution_count": 1,
   "metadata": {},
   "outputs": [],
   "source": [
    "import cv2\n",
    "import numpy as np\n",
    "import onnxruntime"
   ]
  },
  {
   "cell_type": "code",
   "execution_count": 2,
   "metadata": {},
   "outputs": [],
   "source": [
    "path = \"C:\\\\Users\\\\aimlc\\\\OneDrive\\\\Desktop\\\\Vidhul\\\\StonePaperScissor\\\\yolov5\\\\Rock-Paper-Scissors-SXSW-14\\\\test\\\\images\\\\IMG_7077_MOV-106_jpg.rf.70485649471c0d185b71d8061224b4b6.jpg\"\n",
    "im0 = cv2.imread(path)  # BGR\n",
    "imcpy = cv2.copyMakeBorder(im0, 0,0,0,0, cv2.BORDER_CONSTANT, value=(114,114,11))\n",
    "imcpy = imcpy.transpose((2, 0, 1))[::-1]  # HWC to CHW, BGR to RGB\n",
    "imcpy = np.ascontiguousarray(imcpy,dtype=np.float32)"
   ]
  },
  {
   "cell_type": "code",
   "execution_count": 3,
   "metadata": {},
   "outputs": [],
   "source": [
    "im = imcpy\n",
    "if len(im.shape)==3:\n",
    "    im= im[None]"
   ]
  },
  {
   "cell_type": "code",
   "execution_count": 4,
   "metadata": {},
   "outputs": [],
   "source": [
    "cuda = False\n",
    "w=str('../runs/train/exp19/weights/best.onnx')\n",
    "providers = [\"CUDAExecutionProvider\", \"CPUExecutionProvider\"] if cuda else [\"CPUExecutionProvider\"]\n",
    "session = onnxruntime.InferenceSession(w, providers=providers)\n",
    "output_names = [x.name for x in session.get_outputs()]\n",
    "meta = session.get_modelmeta().custom_metadata_map  # metadata\n",
    "if \"stride\" in meta:\n",
    "    stride, names = int(meta[\"stride\"]), eval(meta[\"names\"])\n",
    "y = session.run(output_names, {session.get_inputs()[0].name: im})[0]"
   ]
  },
  {
   "cell_type": "code",
   "execution_count": 5,
   "metadata": {},
   "outputs": [
    {
     "data": {
      "text/plain": [
       "(25200, 6)"
      ]
     },
     "execution_count": 5,
     "metadata": {},
     "output_type": "execute_result"
    }
   ],
   "source": [
    "outcpy=np.zeros((y.shape[1],6),dtype=y.dtype)\n",
    "outcpy.shape"
   ]
  },
  {
   "cell_type": "code",
   "execution_count": 6,
   "metadata": {},
   "outputs": [],
   "source": [
    "outcpy[:,0]=y[0,:,0]- y[0,:,2]/2\n",
    "outcpy[:,1]=y[0,:,1]- y[0,:,3]/2\n",
    "outcpy[:,2]=y[0,:,0]+ y[0,:,2]/2\n",
    "outcpy[:,3]=y[0,:,1]+ y[0,:,3]/2\n",
    "outcpy[:,5]=np.max(y[0,:,5:],axis=1)\n",
    "outcpy[:,4]=y[0,:,4]*outcpy[:,5]\n",
    "outcpy[:,5]=np.argmax(y[0,:,5:],axis=1)"
   ]
  },
  {
   "cell_type": "code",
   "execution_count": 7,
   "metadata": {},
   "outputs": [
    {
     "data": {
      "text/plain": [
       "(25200, 6)"
      ]
     },
     "execution_count": 7,
     "metadata": {},
     "output_type": "execute_result"
    }
   ],
   "source": [
    "out= outcpy[outcpy[:,4].argsort()[::-1]]\n",
    "out.shape"
   ]
  },
  {
   "cell_type": "code",
   "execution_count": 8,
   "metadata": {},
   "outputs": [],
   "source": [
    "def nms(boxes, overlap_threshold=0.45, min_mode=False):\n",
    "    x1 = boxes[:, 0]\n",
    "    y1 = boxes[:, 1]\n",
    "    x2 = boxes[:, 2]\n",
    "    y2 = boxes[:, 3]\n",
    "    scores = boxes[:, 4]\n",
    "    areas = (x2 - x1 + 1) * (y2 - y1 + 1)\n",
    "    index_array = scores.argsort()[::-1]\n",
    "    keep = []\n",
    "    while index_array.size > 0:\n",
    "        keep.append(index_array[0])\n",
    "        x1_ = np.maximum(x1[index_array[0]], x1[index_array[1:]])\n",
    "        y1_ = np.maximum(y1[index_array[0]], y1[index_array[1:]])\n",
    "        x2_ = np.minimum(x2[index_array[0]], x2[index_array[1:]])\n",
    "        y2_ = np.minimum(y2[index_array[0]], y2[index_array[1:]])\n",
    "\n",
    "        w = np.maximum(0.0, x2_ - x1_ + 1)\n",
    "        h = np.maximum(0.0, y2_ - y1_ + 1)\n",
    "        inter = w * h\n",
    "\n",
    "        if min_mode:\n",
    "            overlap = inter / np.minimum(areas[index_array[0]], areas[index_array[1:]])\n",
    "        else:\n",
    "            overlap = inter / (areas[index_array[0]] + areas[index_array[1:]] - inter)\n",
    "\n",
    "        inds = np.where(overlap <= overlap_threshold)[0]\n",
    "        index_array = index_array[inds + 1]\n",
    "    return keep"
   ]
  },
  {
   "cell_type": "code",
   "execution_count": 9,
   "metadata": {},
   "outputs": [
    {
     "data": {
      "text/plain": [
       "(299, 6)"
      ]
     },
     "execution_count": 9,
     "metadata": {},
     "output_type": "execute_result"
    }
   ],
   "source": [
    "conf_thresh = 0.25\n",
    "out = out[out[:,4]>conf_thresh]\n",
    "out.shape"
   ]
  },
  {
   "cell_type": "code",
   "execution_count": 10,
   "metadata": {},
   "outputs": [
    {
     "data": {
      "text/plain": [
       "122"
      ]
     },
     "execution_count": 10,
     "metadata": {},
     "output_type": "execute_result"
    }
   ],
   "source": [
    "keep=nms(out)\n",
    "len(keep)"
   ]
  },
  {
   "cell_type": "code",
   "execution_count": 11,
   "metadata": {},
   "outputs": [
    {
     "data": {
      "text/plain": [
       "(122, 6)"
      ]
     },
     "execution_count": 11,
     "metadata": {},
     "output_type": "execute_result"
    }
   ],
   "source": [
    "output=out[keep]\n",
    "output.shape"
   ]
  },
  {
   "cell_type": "code",
   "execution_count": null,
   "metadata": {},
   "outputs": [],
   "source": []
  }
 ],
 "metadata": {
  "kernelspec": {
   "display_name": "Python 3",
   "language": "python",
   "name": "python3"
  },
  "language_info": {
   "codemirror_mode": {
    "name": "ipython",
    "version": 3
   },
   "file_extension": ".py",
   "mimetype": "text/x-python",
   "name": "python",
   "nbconvert_exporter": "python",
   "pygments_lexer": "ipython3",
   "version": "3.9.19"
  }
 },
 "nbformat": 4,
 "nbformat_minor": 2
}
